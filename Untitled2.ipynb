{
 "cells": [
  {
   "cell_type": "code",
   "execution_count": 57,
   "metadata": {},
   "outputs": [],
   "source": [
    "import random"
   ]
  },
  {
   "cell_type": "code",
   "execution_count": 58,
   "metadata": {},
   "outputs": [
    {
     "name": "stdout",
     "output_type": "stream",
     "text": [
      "{'c1': [-2.1351, 2.0917, -0.1327, -4.1006], 'c2': [1.0152, -3.9811, -2.6638, 3.7535], 'c3': [4.0589, 2.1904, -0.1503, 0.0023], 'c4': [-3.4098, -3.0714, -0.9008, -4.3712], 'c5': [0.2073, 2.9932, -4.0802, 1.8794]}\n"
     ]
    }
   ],
   "source": [
    "c1=[-2.1351,2.0917,-0.1327,-4.1006]\n",
    "c2=[1.0152,-3.9811,-2.6638,3.7535]\n",
    "c3=[4.0589,2.1904,-0.1503,0.0023]\n",
    "c4=[-3.4098,-3.0714,-0.9008,-4.3712]\n",
    "c5=[0.2073,2.9932,-4.0802,1.8794]\n",
    "c={'c1':c1,'c2':c2,'c3':c3,'c4':c4,'c5':c5}\n",
    "print(c)"
   ]
  },
  {
   "cell_type": "code",
   "execution_count": 59,
   "metadata": {},
   "outputs": [
    {
     "name": "stdout",
     "output_type": "stream",
     "text": [
      "[-2.1351, 2.0917, -0.1327, -4.1006]\n"
     ]
    }
   ],
   "source": [
    "print(c['c1'])"
   ]
  },
  {
   "cell_type": "code",
   "execution_count": 60,
   "metadata": {},
   "outputs": [],
   "source": [
    "def functiony(x):\n",
    "    y=0\n",
    "    for i in x:\n",
    "        y+=i**2\n",
    "    return 1/(y+1)"
   ]
  },
  {
   "cell_type": "code",
   "execution_count": 61,
   "metadata": {},
   "outputs": [],
   "source": [
    "#计算Best,sum\n",
    "def eval(c):\n",
    "    a=[]\n",
    "    cs=[]\n",
    "    for key,value in c.items():\n",
    "        a.append(functiony(c[key]))    \n",
    "    s=sum(a)    \n",
    "    m=max(a)  \n",
    "    #print(a)\n",
    "    return m,s"
   ]
  },
  {
   "cell_type": "code",
   "execution_count": 62,
   "metadata": {},
   "outputs": [],
   "source": [
    "best,s=eval(c)\n",
    "#print(s)"
   ]
  },
  {
   "cell_type": "code",
   "execution_count": 63,
   "metadata": {},
   "outputs": [
    {
     "data": {
      "text/plain": [
       "[0.2267486192340076,\n",
       " 0.15536511658568442,\n",
       " 0.2722229341584716,\n",
       " 0.14457783259589735,\n",
       " 0.20108549742593906]"
      ]
     },
     "execution_count": 63,
     "metadata": {},
     "output_type": "execute_result"
    }
   ],
   "source": [
    "#选择\n",
    "#计算适应度\n",
    "def syd(c,s):\n",
    "    a=[]\n",
    "    for key,value in c.items():\n",
    "        a.append(functiony(c[key])/s)    \n",
    "    #print(a)\n",
    "    return a\n",
    "#syd(c,s)"
   ]
  },
  {
   "cell_type": "code",
   "execution_count": 68,
   "metadata": {},
   "outputs": [
    {
     "name": "stdout",
     "output_type": "stream",
     "text": [
      "['c2', 'c5', 'c5', 'c4', 'c5']\n"
     ]
    }
   ],
   "source": [
    "#轮盘赌\n",
    "def lpd(n,p):\n",
    "    m=0\n",
    "    r=random.random()\n",
    "    for i in range(n):\n",
    "        m+=p[i]\n",
    "        if m>=r:\n",
    "            x='c'\n",
    "            y=str(i+1)\n",
    "            return x+y\n",
    "#lpd(5,syd(c,s))\n",
    "def xz():\n",
    "    a=[]\n",
    "    for i in range(5):\n",
    "        a.append(lpd(5,syd(c,s)))\n",
    "    return a\n",
    "z=[]\n",
    "z=xz()\n",
    "print(z)"
   ]
  },
  {
   "cell_type": "code",
   "execution_count": 77,
   "metadata": {},
   "outputs": [
    {
     "ename": "SyntaxError",
     "evalue": "invalid syntax (<ipython-input-77-d5946a205a85>, line 1)",
     "output_type": "error",
     "traceback": [
      "\u001b[1;36m  File \u001b[1;32m\"<ipython-input-77-d5946a205a85>\"\u001b[1;36m, line \u001b[1;32m1\u001b[0m\n\u001b[1;33m    dc.fromkeys(z[, val])\u001b[0m\n\u001b[1;37m                  ^\u001b[0m\n\u001b[1;31mSyntaxError\u001b[0m\u001b[1;31m:\u001b[0m invalid syntax\n"
     ]
    }
   ],
   "source": [
    "dc.fromkeys(z[, val])"
   ]
  },
  {
   "cell_type": "code",
   "execution_count": null,
   "metadata": {},
   "outputs": [],
   "source": []
  }
 ],
 "metadata": {
  "kernelspec": {
   "display_name": "Python 3",
   "language": "python",
   "name": "python3"
  },
  "language_info": {
   "codemirror_mode": {
    "name": "ipython",
    "version": 3
   },
   "file_extension": ".py",
   "mimetype": "text/x-python",
   "name": "python",
   "nbconvert_exporter": "python",
   "pygments_lexer": "ipython3",
   "version": "3.7.4"
  }
 },
 "nbformat": 4,
 "nbformat_minor": 2
}
