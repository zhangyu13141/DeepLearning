{
 "cells": [
  {
   "cell_type": "code",
   "execution_count": 34,
   "metadata": {},
   "outputs": [],
   "source": [
    "import random"
   ]
  },
  {
   "cell_type": "code",
   "execution_count": 9,
   "metadata": {},
   "outputs": [
    {
     "name": "stdout",
     "output_type": "stream",
     "text": [
      "0.0373602857707686\n"
     ]
    }
   ],
   "source": [
    "def functiony(x):\n",
    "    y=0\n",
    "    for i in x:\n",
    "        y+=i**2\n",
    "    return 1/(y+1)\n",
    "c1=[-2.1351,2.0917,-0.1327,-4.1006]\n",
    "c2=[1.0152,-3.9811,-2.6638,3.7535]\n",
    "c3=[4.0589,2.1904,-0.1503,0.0023]\n",
    "c4=[-3.4098,-3.0714,-0.9008,-4.3712]\n",
    "c5=[0.2073,2.9932,-4.0802,1,8794]\n",
    "eval1=functiony(c1)\n",
    "print(eval1)"
   ]
  },
  {
   "cell_type": "code",
   "execution_count": 27,
   "metadata": {},
   "outputs": [],
   "source": [
    "def max_functiony():\n",
    "    f1,f2,f3,f4,f5=functiony(c1),functiony(c2),functiony(c3),functiony(c4),functiony(c5)\n",
    "    \n",
    "    return max(f1,f2,f3,f4,f5)   "
   ]
  },
  {
   "cell_type": "code",
   "execution_count": 28,
   "metadata": {},
   "outputs": [
    {
     "data": {
      "text/plain": [
       "0.0448528712010445"
      ]
     },
     "execution_count": 28,
     "metadata": {},
     "output_type": "execute_result"
    }
   ],
   "source": [
    "max_functiony()"
   ]
  },
  {
   "cell_type": "code",
   "execution_count": 72,
   "metadata": {},
   "outputs": [
    {
     "data": {
      "text/plain": [
       "'c2'"
      ]
     },
     "execution_count": 72,
     "metadata": {},
     "output_type": "execute_result"
    }
   ],
   "source": [
    "#轮盘赌\n",
    "def lpd(n,p):\n",
    "    m=0\n",
    "    r=random.random()\n",
    "    for i in range(n):\n",
    "        m+=p[i]\n",
    "        if m>=r:\n",
    "            x='c'\n",
    "            y=str(i+1)\n",
    "            return x+y\n",
    "lpd(5,[0.3,0.5,0.1,0.1])"
   ]
  },
  {
   "cell_type": "code",
   "execution_count": 73,
   "metadata": {},
   "outputs": [
    {
     "name": "stdout",
     "output_type": "stream",
     "text": [
      "['c3', 'c4', 'c4', 'c4', 'c1']\n"
     ]
    }
   ],
   "source": [
    "f1,f2,f3,f4,f5=functiony(c1),functiony(c2),functiony(c3),functiony(c4),functiony(c5)\n",
    "f_sum=f1+f2+f3+f4+f5\n",
    "sy1=f1/f_sum\n",
    "sy2=f2/f_sum\n",
    "sy3=f3/f_sum\n",
    "sy4=f4/f_sum\n",
    "sy5=f5/f_sum\n",
    "sy=[sy1,sy2,sy3,sy4,sy5]\n",
    "a=[]\n",
    "for i in range(5):\n",
    "    a.append(lpd(5,sy))\n",
    "print(a) "
   ]
  },
  {
   "cell_type": "code",
   "execution_count": 82,
   "metadata": {},
   "outputs": [
    {
     "name": "stdout",
     "output_type": "stream",
     "text": [
      "['c3', 'c4', 'c4', 'c4', 'c1']\n"
     ]
    }
   ],
   "source": [
    "#新种群\n",
    "cx=[]\n",
    "for i,x in enumerate(a):\n",
    "    cx.append(x)\n",
    "print(cx)"
   ]
  },
  {
   "cell_type": "code",
   "execution_count": 93,
   "metadata": {},
   "outputs": [
    {
     "name": "stdout",
     "output_type": "stream",
     "text": [
      "[4.0589, -3.0714, -0.1503, -4.3712]\n",
      "[-3.4098, 2.1904, -0.9008, 0.0023]\n"
     ]
    }
   ],
   "source": [
    "c11,c21,c31,c41,c51=c3,c4,c4,c5,c1\n",
    "print(c11)\n",
    "print(c21)"
   ]
  },
  {
   "cell_type": "code",
   "execution_count": 92,
   "metadata": {},
   "outputs": [
    {
     "name": "stdout",
     "output_type": "stream",
     "text": [
      "[1, 2, 3, 4]\n",
      "[4.0589, -3.0714, -0.1503, -4.3712]\n"
     ]
    }
   ],
   "source": [
    "a=[]\n",
    "for i in range(5):\n",
    "    r=random.random()\n",
    "    if r<0.88:\n",
    "        a.append(i)\n",
    "print(a)\n",
    "x=random.randint(0,3)\n",
    "c11[x:],c21[x:]=c21[x:],c11[x:]\n"
   ]
  },
  {
   "cell_type": "code",
   "execution_count": null,
   "metadata": {},
   "outputs": [],
   "source": []
  }
 ],
 "metadata": {
  "kernelspec": {
   "display_name": "Python 3",
   "language": "python",
   "name": "python3"
  },
  "language_info": {
   "codemirror_mode": {
    "name": "ipython",
    "version": 3
   },
   "file_extension": ".py",
   "mimetype": "text/x-python",
   "name": "python",
   "nbconvert_exporter": "python",
   "pygments_lexer": "ipython3",
   "version": "3.7.4"
  }
 },
 "nbformat": 4,
 "nbformat_minor": 2
}
